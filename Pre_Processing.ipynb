{
  "nbformat": 4,
  "nbformat_minor": 0,
  "metadata": {
    "colab": {
      "provenance": []
    },
    "kernelspec": {
      "name": "python3",
      "display_name": "Python 3"
    },
    "language_info": {
      "name": "python"
    }
  },
  "cells": [
    {
      "cell_type": "code",
      "source": [
        "import pandas as pd\n",
        "from sklearn import preprocessing\n",
        "\n",
        "# Load data\n",
        "File_data = pd.read_csv(\"./ce889_dataCollection.csv\", names=['X1', 'X2', 'Y1', 'Y2'])\n",
        "\n",
        "print(File_data.head(5))\n",
        "print(File_data.shape)\n",
        "print(File_data.max())\n",
        "print(File_data.min())\n",
        "\n",
        "# Drop duplicates based on columns X1 and X2\n",
        "File_data.drop_duplicates(subset=[\"X1\", \"X2\"], inplace=True)\n",
        "\n",
        "# Check for missing values\n",
        "print(File_data.isna().sum())\n",
        "\n",
        "# Fill missing values with the mean\n",
        "File_data.fillna(File_data.mean(), inplace=True)\n",
        "\n",
        "def normalize_dataframe(data_frame):\n",
        "    normalized_data = data_frame.copy()\n",
        "    for feature in data_frame.columns:\n",
        "        val_max = data_frame[feature].max()\n",
        "        val_min = data_frame[feature].min()\n",
        "        normalized_data[feature] = (data_frame[feature] - val_min) / (val_max - val_min)\n",
        "    return normalized_data\n",
        "\n",
        "# Apply normalization\n",
        "normalized_Data = normalize_dataframe(File_data)\n",
        "print(normalized_Data)\n",
        "\n",
        "# Split data into training and testing sets\n",
        "train_len = int(len(normalized_Data) * 0.9)\n",
        "train, test = normalized_Data.iloc[:train_len, :], normalized_Data.iloc[train_len:, :]\n",
        "\n",
        "# Display training and testing sets\n",
        "print(train)\n",
        "print(test)\n",
        "\n",
        "# Save training and testing sets to CSV files\n",
        "train.to_csv(\"training.csv\", index=False)\n",
        "test.to_csv(\"testing.csv\", index=False)\n"
      ],
      "metadata": {
        "colab": {
          "base_uri": "https://localhost:8080/"
        },
        "id": "Aaim_NFCdtlb",
        "outputId": "fede0111-a71b-40d0-9728-ed47491d5856"
      },
      "execution_count": 27,
      "outputs": [
        {
          "output_type": "stream",
          "name": "stdout",
          "text": [
            "           X1     X2   Y1    Y2\n",
            "0 -634.874661  399.9  0.2  0.00\n",
            "1 -634.874661  399.7  0.3  0.04\n",
            "2 -634.914661  399.4  0.4  0.00\n",
            "3 -634.914661  399.0  0.5  0.04\n",
            "4 -634.954661  398.5  0.6  0.00\n",
            "(31121, 4)\n",
            "X1    663.946132\n",
            "X2    553.470250\n",
            "Y1      7.691698\n",
            "Y2      7.060572\n",
            "dtype: float64\n",
            "X1   -658.498082\n",
            "X2     65.529118\n",
            "Y1     -2.809573\n",
            "Y2     -5.626429\n",
            "dtype: float64\n",
            "X1    0\n",
            "X2    0\n",
            "Y1    0\n",
            "Y2    0\n",
            "dtype: int64\n",
            "             X1        X2        Y1        Y2\n",
            "0      0.017863  0.685269  0.286591  0.443480\n",
            "1      0.017863  0.684859  0.296114  0.446633\n",
            "2      0.017833  0.684244  0.305637  0.443480\n",
            "3      0.017833  0.683424  0.315159  0.446633\n",
            "4      0.017803  0.682400  0.324682  0.443480\n",
            "...         ...       ...       ...       ...\n",
            "31116  0.503373  0.019698  0.475915  0.249439\n",
            "31117  0.505235  0.015213  0.478924  0.237779\n",
            "31118  0.507208  0.010664  0.482561  0.225939\n",
            "31119  0.509295  0.006036  0.486834  0.213938\n",
            "31120  0.511497  0.001317  0.491749  0.201795\n",
            "\n",
            "[31063 rows x 4 columns]\n",
            "             X1        X2        Y1        Y2\n",
            "0      0.017863  0.685269  0.286591  0.443480\n",
            "1      0.017863  0.684859  0.296114  0.446633\n",
            "2      0.017833  0.684244  0.305637  0.443480\n",
            "3      0.017833  0.683424  0.315159  0.446633\n",
            "4      0.017803  0.682400  0.324682  0.443480\n",
            "...         ...       ...       ...       ...\n",
            "28009  0.546512  0.471657  0.535055  0.453604\n",
            "28010  0.546415  0.465899  0.526270  0.454796\n",
            "28011  0.546307  0.460331  0.517485  0.455988\n",
            "28012  0.546187  0.454952  0.508701  0.457181\n",
            "28013  0.546055  0.449762  0.499916  0.458373\n",
            "\n",
            "[27956 rows x 4 columns]\n",
            "             X1        X2        Y1        Y2\n",
            "28014  0.545912  0.444761  0.491131  0.459566\n",
            "28015  0.545758  0.439949  0.482346  0.460758\n",
            "28016  0.545592  0.435326  0.473561  0.461950\n",
            "28017  0.545415  0.430893  0.464776  0.463143\n",
            "28018  0.545227  0.426648  0.455991  0.464335\n",
            "...         ...       ...       ...       ...\n",
            "31116  0.503373  0.019698  0.475915  0.249439\n",
            "31117  0.505235  0.015213  0.478924  0.237779\n",
            "31118  0.507208  0.010664  0.482561  0.225939\n",
            "31119  0.509295  0.006036  0.486834  0.213938\n",
            "31120  0.511497  0.001317  0.491749  0.201795\n",
            "\n",
            "[3107 rows x 4 columns]\n"
          ]
        }
      ]
    },
    {
      "cell_type": "code",
      "source": [],
      "metadata": {
        "id": "eI56h7Dlh7x5"
      },
      "execution_count": null,
      "outputs": []
    }
  ]
}